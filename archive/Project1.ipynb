{
 "cells": [
  {
   "cell_type": "markdown",
   "id": "ad405937-c626-4b61-99a1-1aeaa030fe8f",
   "metadata": {},
   "source": [
    "Introduction\n",
    "============\n",
    "\n",
    "In this project, I'll explore the realm of business success, particularly in the context of consumer preferences and behavior. Utilizing an extensive dataset from Yelp, a super-popular business directory used worldwide, the study aims to uncover various factors that correlate with business success. Yelp's comprehensive data provides a unique window into the dynamics of consumer-business interactions, offering valuable insights into what drives consumer decisions and, consequently, business success.\n",
    "\n",
    "The dataset for this research is sourced from Yelp, including business ID, name, location details (address, city, state, postal code, latitude, longitude), operational aspects (attributes, hours), and consumer-generated metrics (stars, review count). I define 'business success' as a composite metric from Yelp's star ratings and the number of reviews, reflecting both customer satisfaction and engagement levels. The choice of variables such as state, latitude, longitude, attributes, and hours as predictors comes from our hypothesis that these factors significantly influence the consumer's decision and, hence, leading to the business success.\n",
    "\n",
    "The core research question is:**\"What are the key factors that correlate with business success\"** findings"
   ]
  },
  {
   "cell_type": "code",
   "execution_count": 1,
   "id": "20f6c239-325c-4c56-8f3a-da643ffcacc9",
   "metadata": {},
   "outputs": [],
   "source": [
    "import matplotlib.pyplot as plt \n",
    "import numpy as np\n",
    "import pandas as pd\n",
    "\n",
    "df_b = pd.read_json(r\"yelp_academic_dataset_business.json\", lines=True)\n",
    "#Import packages and data"
   ]
  },
  {
   "cell_type": "code",
   "execution_count": 2,
   "id": "934e5b70-86b3-4fc3-b74d-9ab78eafbca1",
   "metadata": {},
   "outputs": [
    {
     "name": "stdout",
     "output_type": "stream",
     "text": [
      "Are there any missing values in the DataFrame? True\n"
     ]
    }
   ],
   "source": [
    "has_na = df_b.isna().any().any()\n",
    "\n",
    "print(f\"Are there any missing values in the DataFrame? {has_na}\")"
   ]
  },
  {
   "cell_type": "code",
   "execution_count": 3,
   "id": "7f9bfa4a-d4a5-409b-b2ef-df0d17f53b21",
   "metadata": {},
   "outputs": [],
   "source": [
    "df_b_c = df_b.dropna()\n",
    "#Drop all the missing data"
   ]
  },
  {
   "cell_type": "code",
   "execution_count": 7,
   "id": "761fd70f-de21-4155-b77a-7dd0ff333486",
   "metadata": {},
   "outputs": [
    {
     "name": "stdout",
     "output_type": "stream",
     "text": [
      "        stars  review_count  business_success\n",
      "1         3.0            15          2.607197\n",
      "2         3.5            22          3.153569\n",
      "3         4.0            80          4.122103\n",
      "4         4.5            13          3.236456\n",
      "5         2.0             6          1.270462\n",
      "...       ...           ...               ...\n",
      "150340    4.5            18          3.502338\n",
      "150341    3.0            13          2.486456\n",
      "150342    4.0             5          2.095702\n",
      "150344    4.0            24          3.467027\n",
      "150345    4.5             9          2.904874\n",
      "\n",
      "[117618 rows x 3 columns]\n"
     ]
    }
   ],
   "source": [
    "df_b_c.loc[:, 'business_success'] = df_b_c['stars'] * 0.5 + (100 - df_b_c['review_count'].rank(pct=True, ascending=False) * 100) / 40\n",
    "# Create the 'business_success' column."
   ]
  },
  {
   "cell_type": "code",
   "execution_count": 10,
   "id": "45af550d-254f-47a3-bc30-50f30f02ded2",
   "metadata": {},
   "outputs": [
    {
     "name": "stdout",
     "output_type": "stream",
     "text": [
      "summary statistics table:\n",
      "             latitude      longitude        is_open  business_success\n",
      "count  117618.000000  117618.000000  117618.000000     117618.000000\n",
      "mean       36.612308     -89.277679       0.807495          3.079650\n",
      "std         5.838800      14.804658       0.394269          0.858535\n",
      "min        27.555127    -120.095137       0.000000          0.595702\n",
      "25%        32.173332     -90.349720       1.000000          2.502542\n",
      "50%        38.731374     -86.120175       1.000000          3.082789\n",
      "75%        39.953499     -75.449811       1.000000          3.753261\n",
      "max        53.651838     -73.200457       1.000000          4.993028\n"
     ]
    }
   ],
   "source": [
    "print(f\"summary statistics table:\\n {df_b_c[['state','latitude','longitude','is_open','hours','business_success']].describe()}\")"
   ]
  },
  {
   "cell_type": "code",
   "execution_count": 11,
   "id": "4c7c0ab8-92a6-43a4-b6b7-7e3f9b40e405",
   "metadata": {},
   "outputs": [
    {
     "name": "stdout",
     "output_type": "stream",
     "text": [
      "        attribute_point\n",
      "1                     1\n",
      "2                     3\n",
      "3                     3\n",
      "4                     5\n",
      "5                     9\n",
      "...                 ...\n",
      "150340                4\n",
      "150341                0\n",
      "150342                2\n",
      "150344                2\n",
      "150345                2\n",
      "\n",
      "[117618 rows x 1 columns]\n"
     ]
    },
    {
     "name": "stderr",
     "output_type": "stream",
     "text": [
      "/var/folders/8h/5tmh1qrn62z3c26n8x2hgtj00000gn/T/ipykernel_57153/3673176564.py:9: SettingWithCopyWarning: \n",
      "A value is trying to be set on a copy of a slice from a DataFrame.\n",
      "Try using .loc[row_indexer,col_indexer] = value instead\n",
      "\n",
      "See the caveats in the documentation: https://pandas.pydata.org/pandas-docs/stable/user_guide/indexing.html#returning-a-view-versus-a-copy\n",
      "  df_b_c['attribute_point'] = df_b_c['attributes'].apply(count_attractive_attributes)\n"
     ]
    }
   ],
   "source": [
    "# Define a list of attributes that are considered attractive.\n",
    "attractive_attributes = ['AcceptsInsurance', 'AgesAllowed', 'Alcohol', 'Ambience', 'BYOB', 'BYOBCorkage', 'BestNights', 'BikeParking', 'BusinessAcceptsBitcoin', 'BusinessAcceptsCreditCards', 'BusinessParking', 'ByAppointmentOnly', 'Caters', 'CoatCheck', 'Corkage', 'DietaryRestrictions', 'DogsAllowed', 'DriveThru', 'GoodForDancing', 'GoodForKids', 'GoodForMeal', 'HairSpecializesIn', 'HappyHour', 'HasTV', 'Music', 'NoiseLevel', 'Open24Hours', 'OutdoorSeating', 'RestaurantsAttire', 'RestaurantsCounterService', 'RestaurantsDelivery', 'RestaurantsGoodForGroups', 'RestaurantsPriceRange2', 'RestaurantsReservations', 'RestaurantsTableService', 'RestaurantsTakeOut', 'Smoking', 'WheelchairAccessible', 'WiFi']\n",
    "\n",
    "# Function to count attractive attributes.\n",
    "def count_attractive_attributes(row):\n",
    "    return sum(1 for attr in attractive_attributes if row.get(attr) == 'True')\n",
    "\n",
    "# Apply the function to each row.\n",
    "df_b_c['attribute_point'] = df_b_c['attributes'].apply(count_attractive_attributes)\n",
    "\n",
    "# Now df has the new 'attribute_point' column.\n",
    "print(df_b_c[['attribute_point']])\n"
   ]
  },
  {
   "cell_type": "code",
   "execution_count": null,
   "id": "6b0d5091-2575-469b-97f3-ad190deee798",
   "metadata": {},
   "outputs": [],
   "source": []
  }
 ],
 "metadata": {
  "kernelspec": {
   "display_name": "Python 3 (ipykernel)",
   "language": "python",
   "name": "python3"
  },
  "language_info": {
   "codemirror_mode": {
    "name": "ipython",
    "version": 3
   },
   "file_extension": ".py",
   "mimetype": "text/x-python",
   "name": "python",
   "nbconvert_exporter": "python",
   "pygments_lexer": "ipython3",
   "version": "3.11.5"
  }
 },
 "nbformat": 4,
 "nbformat_minor": 5
}
