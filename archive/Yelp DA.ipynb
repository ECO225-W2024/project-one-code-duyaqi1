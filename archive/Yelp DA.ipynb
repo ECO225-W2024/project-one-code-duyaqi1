{
 "cells": [
  {
   "cell_type": "code",
   "execution_count": 3,
   "id": "d6c41291-6c3c-4547-b791-4164748485e2",
   "metadata": {},
   "outputs": [],
   "source": [
    "from mpl_toolkits.mplot3d import Axes3D\n",
    "from sklearn.preprocessing import StandardScaler\n",
    "import matplotlib.pyplot as plt \n",
    "import numpy as np\n",
    "import pandas as pd\n",
    "# import packages"
   ]
  },
  {
   "cell_type": "code",
   "execution_count": 4,
   "id": "b726d890-41f0-45e0-b333-a1c3093711a5",
   "metadata": {},
   "outputs": [
    {
     "data": {
      "text/html": [
       "<div>\n",
       "<style scoped>\n",
       "    .dataframe tbody tr th:only-of-type {\n",
       "        vertical-align: middle;\n",
       "    }\n",
       "\n",
       "    .dataframe tbody tr th {\n",
       "        vertical-align: top;\n",
       "    }\n",
       "\n",
       "    .dataframe thead th {\n",
       "        text-align: right;\n",
       "    }\n",
       "</style>\n",
       "<table border=\"1\" class=\"dataframe\">\n",
       "  <thead>\n",
       "    <tr style=\"text-align: right;\">\n",
       "      <th></th>\n",
       "      <th>business_id</th>\n",
       "      <th>name</th>\n",
       "      <th>address</th>\n",
       "      <th>city</th>\n",
       "      <th>state</th>\n",
       "      <th>postal_code</th>\n",
       "      <th>latitude</th>\n",
       "      <th>longitude</th>\n",
       "      <th>stars</th>\n",
       "      <th>review_count</th>\n",
       "      <th>is_open</th>\n",
       "      <th>attributes</th>\n",
       "      <th>categories</th>\n",
       "      <th>hours</th>\n",
       "    </tr>\n",
       "  </thead>\n",
       "  <tbody>\n",
       "    <tr>\n",
       "      <th>0</th>\n",
       "      <td>Pns2l4eNsfO8kk83dixA6A</td>\n",
       "      <td>Abby Rappoport, LAC, CMQ</td>\n",
       "      <td>1616 Chapala St, Ste 2</td>\n",
       "      <td>Santa Barbara</td>\n",
       "      <td>CA</td>\n",
       "      <td>93101</td>\n",
       "      <td>34.426679</td>\n",
       "      <td>-119.711197</td>\n",
       "      <td>5.0</td>\n",
       "      <td>7</td>\n",
       "      <td>0</td>\n",
       "      <td>{'ByAppointmentOnly': 'True'}</td>\n",
       "      <td>Doctors, Traditional Chinese Medicine, Naturop...</td>\n",
       "      <td>None</td>\n",
       "    </tr>\n",
       "    <tr>\n",
       "      <th>1</th>\n",
       "      <td>mpf3x-BjTdTEA3yCZrAYPw</td>\n",
       "      <td>The UPS Store</td>\n",
       "      <td>87 Grasso Plaza Shopping Center</td>\n",
       "      <td>Affton</td>\n",
       "      <td>MO</td>\n",
       "      <td>63123</td>\n",
       "      <td>38.551126</td>\n",
       "      <td>-90.335695</td>\n",
       "      <td>3.0</td>\n",
       "      <td>15</td>\n",
       "      <td>1</td>\n",
       "      <td>{'BusinessAcceptsCreditCards': 'True'}</td>\n",
       "      <td>Shipping Centers, Local Services, Notaries, Ma...</td>\n",
       "      <td>{'Monday': '0:0-0:0', 'Tuesday': '8:0-18:30', ...</td>\n",
       "    </tr>\n",
       "    <tr>\n",
       "      <th>2</th>\n",
       "      <td>tUFrWirKiKi_TAnsVWINQQ</td>\n",
       "      <td>Target</td>\n",
       "      <td>5255 E Broadway Blvd</td>\n",
       "      <td>Tucson</td>\n",
       "      <td>AZ</td>\n",
       "      <td>85711</td>\n",
       "      <td>32.223236</td>\n",
       "      <td>-110.880452</td>\n",
       "      <td>3.5</td>\n",
       "      <td>22</td>\n",
       "      <td>0</td>\n",
       "      <td>{'BikeParking': 'True', 'BusinessAcceptsCredit...</td>\n",
       "      <td>Department Stores, Shopping, Fashion, Home &amp; G...</td>\n",
       "      <td>{'Monday': '8:0-22:0', 'Tuesday': '8:0-22:0', ...</td>\n",
       "    </tr>\n",
       "    <tr>\n",
       "      <th>3</th>\n",
       "      <td>MTSW4McQd7CbVtyjqoe9mw</td>\n",
       "      <td>St Honore Pastries</td>\n",
       "      <td>935 Race St</td>\n",
       "      <td>Philadelphia</td>\n",
       "      <td>PA</td>\n",
       "      <td>19107</td>\n",
       "      <td>39.955505</td>\n",
       "      <td>-75.155564</td>\n",
       "      <td>4.0</td>\n",
       "      <td>80</td>\n",
       "      <td>1</td>\n",
       "      <td>{'RestaurantsDelivery': 'False', 'OutdoorSeati...</td>\n",
       "      <td>Restaurants, Food, Bubble Tea, Coffee &amp; Tea, B...</td>\n",
       "      <td>{'Monday': '7:0-20:0', 'Tuesday': '7:0-20:0', ...</td>\n",
       "    </tr>\n",
       "    <tr>\n",
       "      <th>4</th>\n",
       "      <td>mWMc6_wTdE0EUBKIGXDVfA</td>\n",
       "      <td>Perkiomen Valley Brewery</td>\n",
       "      <td>101 Walnut St</td>\n",
       "      <td>Green Lane</td>\n",
       "      <td>PA</td>\n",
       "      <td>18054</td>\n",
       "      <td>40.338183</td>\n",
       "      <td>-75.471659</td>\n",
       "      <td>4.5</td>\n",
       "      <td>13</td>\n",
       "      <td>1</td>\n",
       "      <td>{'BusinessAcceptsCreditCards': 'True', 'Wheelc...</td>\n",
       "      <td>Brewpubs, Breweries, Food</td>\n",
       "      <td>{'Wednesday': '14:0-22:0', 'Thursday': '16:0-2...</td>\n",
       "    </tr>\n",
       "  </tbody>\n",
       "</table>\n",
       "</div>"
      ],
      "text/plain": [
       "              business_id                      name  \\\n",
       "0  Pns2l4eNsfO8kk83dixA6A  Abby Rappoport, LAC, CMQ   \n",
       "1  mpf3x-BjTdTEA3yCZrAYPw             The UPS Store   \n",
       "2  tUFrWirKiKi_TAnsVWINQQ                    Target   \n",
       "3  MTSW4McQd7CbVtyjqoe9mw        St Honore Pastries   \n",
       "4  mWMc6_wTdE0EUBKIGXDVfA  Perkiomen Valley Brewery   \n",
       "\n",
       "                           address           city state postal_code  \\\n",
       "0           1616 Chapala St, Ste 2  Santa Barbara    CA       93101   \n",
       "1  87 Grasso Plaza Shopping Center         Affton    MO       63123   \n",
       "2             5255 E Broadway Blvd         Tucson    AZ       85711   \n",
       "3                      935 Race St   Philadelphia    PA       19107   \n",
       "4                    101 Walnut St     Green Lane    PA       18054   \n",
       "\n",
       "    latitude   longitude  stars  review_count  is_open  \\\n",
       "0  34.426679 -119.711197    5.0             7        0   \n",
       "1  38.551126  -90.335695    3.0            15        1   \n",
       "2  32.223236 -110.880452    3.5            22        0   \n",
       "3  39.955505  -75.155564    4.0            80        1   \n",
       "4  40.338183  -75.471659    4.5            13        1   \n",
       "\n",
       "                                          attributes  \\\n",
       "0                      {'ByAppointmentOnly': 'True'}   \n",
       "1             {'BusinessAcceptsCreditCards': 'True'}   \n",
       "2  {'BikeParking': 'True', 'BusinessAcceptsCredit...   \n",
       "3  {'RestaurantsDelivery': 'False', 'OutdoorSeati...   \n",
       "4  {'BusinessAcceptsCreditCards': 'True', 'Wheelc...   \n",
       "\n",
       "                                          categories  \\\n",
       "0  Doctors, Traditional Chinese Medicine, Naturop...   \n",
       "1  Shipping Centers, Local Services, Notaries, Ma...   \n",
       "2  Department Stores, Shopping, Fashion, Home & G...   \n",
       "3  Restaurants, Food, Bubble Tea, Coffee & Tea, B...   \n",
       "4                          Brewpubs, Breweries, Food   \n",
       "\n",
       "                                               hours  \n",
       "0                                               None  \n",
       "1  {'Monday': '0:0-0:0', 'Tuesday': '8:0-18:30', ...  \n",
       "2  {'Monday': '8:0-22:0', 'Tuesday': '8:0-22:0', ...  \n",
       "3  {'Monday': '7:0-20:0', 'Tuesday': '7:0-20:0', ...  \n",
       "4  {'Wednesday': '14:0-22:0', 'Thursday': '16:0-2...  "
      ]
     },
     "execution_count": 4,
     "metadata": {},
     "output_type": "execute_result"
    }
   ],
   "source": [
    "df_b = pd.read_json(r\"yelp_academic_dataset_business.json\", lines=True)\n",
    "df_b.head()"
   ]
  },
  {
   "cell_type": "code",
   "execution_count": 11,
   "id": "e59cfde5-f617-44ac-a7b9-0bf55ddd0c18",
   "metadata": {},
   "outputs": [
    {
     "data": {
      "text/plain": [
       "Text(0, 0.5, 'Frequency')"
      ]
     },
     "execution_count": 11,
     "metadata": {},
     "output_type": "execute_result"
    },
    {
     "data": {
      "image/png": "[encoded data removed]",
      "text/plain": [
       "<Figure size 640x480 with 1 Axes>"
      ]
     },
     "metadata": {},
     "output_type": "display_data"
    }
   ],
   "source": [
    "df_b_c = df_b.dropna(subset=['stars'])\n",
    "stars = df_b_c.pivot_table(values=\"stars\", index=\"business_id\") \n",
    "bin_edges = [0.75 + 0.5 * i for i in range(10)]  \n",
    "df_b_c['stars'].hist(bins=bin_edges,edgecolor='black')\n",
    "plt.title('Histogram of Star Ratings')\n",
    "plt.xlabel('Star Rating')\n",
    "plt.ylabel('Frequency')\n",
    "#show the histogram of star ratings. Find that most of the rating is located around 4."
   ]
  },
  {
   "cell_type": "code",
   "execution_count": 4,
   "id": "45e2c09c-ac8f-49b6-bc89-8b056a8f98f2",
   "metadata": {},
   "outputs": [
    {
     "name": "stdout",
     "output_type": "stream",
     "text": [
      "state\n",
      "MT     5.000000\n",
      "VT     4.500000\n",
      "UT     4.500000\n",
      "SD     4.500000\n",
      "HI     4.250000\n",
      "XMS    4.000000\n",
      "CO     4.000000\n",
      "CA     3.996733\n",
      "NV     3.736876\n",
      "ID     3.707634\n",
      "LA     3.679162\n",
      "FL     3.610957\n",
      "AZ     3.592010\n",
      "IN     3.588246\n",
      "PA     3.573019\n",
      "TN     3.571500\n",
      "MO     3.546092\n",
      "WA     3.500000\n",
      "NJ     3.459114\n",
      "AB     3.447515\n",
      "IL     3.369697\n",
      "DE     3.354967\n",
      "TX     2.875000\n",
      "MI     2.500000\n",
      "VI     2.500000\n",
      "NC     2.000000\n",
      "MA     1.250000\n",
      "Name: stars, dtype: float64\n"
     ]
    }
   ],
   "source": [
    "state_avg_stars = df_b_c.groupby('state')['stars'].mean()\n",
    "sorted_states = state_avg_stars.sort_values(ascending=False)\n",
    "print(sorted_states)\n",
    "# Sort the states by the average stars."
   ]
  },
  {
   "cell_type": "markdown",
   "id": "03c7c1bf-e847-45d8-a3ae-7e1bcbcb6b7e",
   "metadata": {},
   "source": [
    "However, I notice some states' averge stars are integer(like MT, NC).\n",
    "This suggests that probably the samples are not enough in those states."
   ]
  },
  {
   "cell_type": "code",
   "execution_count": 5,
   "id": "bb191cd9-fb57-4ff5-b1f0-fe1515bcb4ff",
   "metadata": {},
   "outputs": [
    {
     "name": "stdout",
     "output_type": "stream",
     "text": [
      "Number of businesses in state MT: 1\n"
     ]
    }
   ],
   "source": [
    "number_of_mt_businesses = df_b_c[df_b_c['state'] == 'MT'].shape[0]\n",
    "print(f\"Number of businesses in state MT: {number_of_mt_businesses}\")"
   ]
  },
  {
   "cell_type": "markdown",
   "id": "6036d038-b46a-4665-88f0-ebecd868b415",
   "metadata": {},
   "source": [
    "To prove my guess, I count the number of business in MT, and it turns out only 1.\n",
    "The sample is so small that I'll drop it when ranking the state"
   ]
  },
  {
   "cell_type": "code",
   "execution_count": 6,
   "id": "1dacb8d4-633e-4b8e-918d-5251109fe672",
   "metadata": {},
   "outputs": [
    {
     "name": "stdout",
     "output_type": "stream",
     "text": [
      "state\n",
      "CA    3.996733\n",
      "NV    3.736876\n",
      "ID    3.707634\n",
      "LA    3.679162\n",
      "FL    3.610957\n",
      "AZ    3.592010\n",
      "IN    3.588246\n",
      "PA    3.573019\n",
      "TN    3.571500\n",
      "MO    3.546092\n",
      "NJ    3.459114\n",
      "AB    3.447515\n",
      "IL    3.369697\n",
      "DE    3.354967\n",
      "Name: stars, dtype: float64\n"
     ]
    }
   ],
   "source": [
    "business_counts = df_b_c['state'].value_counts()\n",
    "states_with_few_businesses = business_counts[business_counts < 100].index\n",
    "sorted_states = sorted_states.drop(states_with_few_businesses)\n",
    "print(sorted_states)\n",
    "# Remove states with fewer than 100 businesses from sorted_states."
   ]
  },
  {
   "cell_type": "markdown",
   "id": "16999129-1be8-48e3-aaca-4f19c45eeef3",
   "metadata": {},
   "source": [
    "Now the ranking is more relaibe"
   ]
  },
  {
   "cell_type": "code",
   "execution_count": 4,
   "id": "f1d19ce8-6e02-4e08-bed5-46d85631ccb0",
   "metadata": {},
   "outputs": [
    {
     "name": "stdout",
     "output_type": "stream",
     "text": [
      "count    150346.000000\n",
      "mean          3.596724\n",
      "std           0.974421\n",
      "min           1.000000\n",
      "25%           3.000000\n",
      "50%           3.500000\n",
      "75%           4.500000\n",
      "max           5.000000\n",
      "Name: stars, dtype: float64\n"
     ]
    }
   ],
   "source": [
    "summary_table_stars = df_b_c['stars'].describe()\n",
    "print(summary_table_stars)"
   ]
  },
  {
   "cell_type": "code",
   "execution_count": 6,
   "id": "4a4c62f8-7fbe-4531-b18c-040f40150e35",
   "metadata": {},
   "outputs": [
    {
     "name": "stdout",
     "output_type": "stream",
     "text": [
      "count    150346.000000\n",
      "mean         44.866561\n",
      "std         121.120136\n",
      "min           5.000000\n",
      "25%           8.000000\n",
      "50%          15.000000\n",
      "75%          37.000000\n",
      "max        7568.000000\n",
      "Name: review_count, dtype: float64\n"
     ]
    }
   ],
   "source": [
    "summary_table_review = df_b_c['review_count'].describe()\n",
    "print(summary_table_review)"
   ]
  },
  {
   "cell_type": "code",
   "execution_count": 5,
   "id": "afc97e94-5f7d-4b91-b8d3-b67aa7a0a548",
   "metadata": {},
   "outputs": [
    {
     "name": "stdout",
     "output_type": "stream",
     "text": [
      "state\n",
      "AB      5573\n",
      "AZ      9912\n",
      "CA      5203\n",
      "CO         3\n",
      "DE      2265\n",
      "FL     26330\n",
      "HI         2\n",
      "ID      4467\n",
      "IL      2145\n",
      "IN     11247\n",
      "LA      9924\n",
      "MA         2\n",
      "MI         1\n",
      "MO     10913\n",
      "MT         1\n",
      "NC         1\n",
      "NJ      8536\n",
      "NV      7715\n",
      "PA     34039\n",
      "SD         1\n",
      "TN     12056\n",
      "TX         4\n",
      "UT         1\n",
      "VI         1\n",
      "VT         1\n",
      "WA         2\n",
      "XMS        1\n",
      "dtype: int64\n"
     ]
    }
   ],
   "source": [
    "business_count_by_state = df_b.groupby('state').size()\n",
    "print(business_count_by_state)"
   ]
  },
  {
   "cell_type": "code",
   "execution_count": 7,
   "id": "ebbd161f-6b8a-437a-8b13-6d1c3c22a4ed",
   "metadata": {},
   "outputs": [
    {
     "data": {
      "text/html": [
       "<div>\n",
       "<style scoped>\n",
       "    .dataframe tbody tr th:only-of-type {\n",
       "        vertical-align: middle;\n",
       "    }\n",
       "\n",
       "    .dataframe tbody tr th {\n",
       "        vertical-align: top;\n",
       "    }\n",
       "\n",
       "    .dataframe thead th {\n",
       "        text-align: right;\n",
       "    }\n",
       "</style>\n",
       "<table border=\"1\" class=\"dataframe\">\n",
       "  <thead>\n",
       "    <tr style=\"text-align: right;\">\n",
       "      <th></th>\n",
       "      <th>user_id</th>\n",
       "      <th>business_id</th>\n",
       "      <th>text</th>\n",
       "      <th>date</th>\n",
       "      <th>compliment_count</th>\n",
       "    </tr>\n",
       "  </thead>\n",
       "  <tbody>\n",
       "    <tr>\n",
       "      <th>0</th>\n",
       "      <td>AGNUgVwnZUey3gcPCJ76iw</td>\n",
       "      <td>3uLgwr0qeCNMjKenHJwPGQ</td>\n",
       "      <td>Avengers time with the ladies.</td>\n",
       "      <td>2012-05-18 02:17:21</td>\n",
       "      <td>0</td>\n",
       "    </tr>\n",
       "    <tr>\n",
       "      <th>1</th>\n",
       "      <td>NBN4MgHP9D3cw--SnauTkA</td>\n",
       "      <td>QoezRbYQncpRqyrLH6Iqjg</td>\n",
       "      <td>They have lots of good deserts and tasty cuban...</td>\n",
       "      <td>2013-02-05 18:35:10</td>\n",
       "      <td>0</td>\n",
       "    </tr>\n",
       "    <tr>\n",
       "      <th>2</th>\n",
       "      <td>-copOvldyKh1qr-vzkDEvw</td>\n",
       "      <td>MYoRNLb5chwjQe3c_k37Gg</td>\n",
       "      <td>It's open even when you think it isn't</td>\n",
       "      <td>2013-08-18 00:56:08</td>\n",
       "      <td>0</td>\n",
       "    </tr>\n",
       "    <tr>\n",
       "      <th>3</th>\n",
       "      <td>FjMQVZjSqY8syIO-53KFKw</td>\n",
       "      <td>hV-bABTK-glh5wj31ps_Jw</td>\n",
       "      <td>Very decent fried chicken</td>\n",
       "      <td>2017-06-27 23:05:38</td>\n",
       "      <td>0</td>\n",
       "    </tr>\n",
       "    <tr>\n",
       "      <th>4</th>\n",
       "      <td>ld0AperBXk1h6UbqmM80zw</td>\n",
       "      <td>_uN0OudeJ3Zl_tf6nxg5ww</td>\n",
       "      <td>Appetizers.. platter special for lunch</td>\n",
       "      <td>2012-10-06 19:43:09</td>\n",
       "      <td>0</td>\n",
       "    </tr>\n",
       "  </tbody>\n",
       "</table>\n",
       "</div>"
      ],
      "text/plain": [
       "                  user_id             business_id  \\\n",
       "0  AGNUgVwnZUey3gcPCJ76iw  3uLgwr0qeCNMjKenHJwPGQ   \n",
       "1  NBN4MgHP9D3cw--SnauTkA  QoezRbYQncpRqyrLH6Iqjg   \n",
       "2  -copOvldyKh1qr-vzkDEvw  MYoRNLb5chwjQe3c_k37Gg   \n",
       "3  FjMQVZjSqY8syIO-53KFKw  hV-bABTK-glh5wj31ps_Jw   \n",
       "4  ld0AperBXk1h6UbqmM80zw  _uN0OudeJ3Zl_tf6nxg5ww   \n",
       "\n",
       "                                                text                date  \\\n",
       "0                     Avengers time with the ladies. 2012-05-18 02:17:21   \n",
       "1  They have lots of good deserts and tasty cuban... 2013-02-05 18:35:10   \n",
       "2             It's open even when you think it isn't 2013-08-18 00:56:08   \n",
       "3                          Very decent fried chicken 2017-06-27 23:05:38   \n",
       "4             Appetizers.. platter special for lunch 2012-10-06 19:43:09   \n",
       "\n",
       "   compliment_count  \n",
       "0                 0  \n",
       "1                 0  \n",
       "2                 0  \n",
       "3                 0  \n",
       "4                 0  "
      ]
     },
     "execution_count": 7,
     "metadata": {},
     "output_type": "execute_result"
    }
   ],
   "source": [
    "df_t = pd.read_json(r\"yelp_academic_dataset_tip.json\", lines=True)df_t.head()"
   ]
  },
  {
   "cell_type": "code",
   "execution_count": 16,
   "id": "5c52676f-cd78-4b66-b616-a5c15c0fe320",
   "metadata": {},
   "outputs": [
    {
     "name": "stdout",
     "output_type": "stream",
     "text": [
      "        stars  review_count  business_success\n",
      "0         5.0             7          3.021971\n",
      "1         3.0            15          2.767817\n",
      "2         3.5            22          3.305529\n",
      "3         4.0            80          4.193898\n",
      "4         4.5            13          3.395416\n",
      "...       ...           ...               ...\n",
      "150341    3.0            13          2.645416\n",
      "150342    4.0             5          2.124047\n",
      "150343    3.5             8          2.418583\n",
      "150344    4.0            24          3.614867\n",
      "150345    4.5             9          3.042588\n",
      "\n",
      "[150346 rows x 3 columns]\n"
     ]
    }
   ],
   "source": [
    "\n",
    "df_b_c['review_count_rank_pct'] = df_b_c['review_count'].rank(pct=True, ascending=False)\n",
    "\n",
    "df_b_c['review_count_score'] = (100 - df_b_c['review_count_rank_pct'] * 100) / 40\n",
    "\n",
    "df_b_c['business_success'] = df_b_c['stars']*0.5 + df_b_c['review_count_score']\n",
    "\n",
    "print(df_b_c[['stars', 'review_count', 'business_success']])\n"
   ]
  },
  {
   "cell_type": "code",
   "execution_count": 22,
   "id": "f57ef2f8-753d-42b7-94b5-fb6bd8b304a3",
   "metadata": {},
   "outputs": [
    {
     "data": {
      "text/plain": [
       "<Axes: ylabel='Density'>"
      ]
     },
     "execution_count": 22,
     "metadata": {},
     "output_type": "execute_result"
    },
    {
     "data": {
      "image/png": "[encoded data removed]",
      "text/plain": [
       "<Figure size 640x480 with 1 Axes>"
      ]
     },
     "metadata": {},
     "output_type": "display_data"
    }
   ],
   "source": [
    "df_b_c['business_success'].plot.density(xlim=(0, 5))"
   ]
  },
  {
   "cell_type": "code",
   "execution_count": null,
   "id": "9c8a4679-132f-47c1-b45c-2000c2d9a1d8",
   "metadata": {},
   "outputs": [],
   "source": []
  },
  {
   "cell_type": "code",
   "execution_count": null,
   "id": "7ed1bbf5-9d70-4e78-a2f4-44f9599b6ff2",
   "metadata": {},
   "outputs": [],
   "source": []
  }
 ],
 "metadata": {
  "kernelspec": {
   "display_name": "Python 3 (ipykernel)",
   "language": "python",
   "name": "python3"
  },
  "language_info": {
   "codemirror_mode": {
    "name": "ipython",
    "version": 3
   },
   "file_extension": ".py",
   "mimetype": "text/x-python",
   "name": "python",
   "nbconvert_exporter": "python",
   "pygments_lexer": "ipython3",
   "version": "3.11.5"
  }
 },
 "nbformat": 4,
 "nbformat_minor": 5
}
